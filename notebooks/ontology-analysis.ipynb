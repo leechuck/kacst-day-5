{
 "cells": [
  {
   "cell_type": "markdown",
   "metadata": {},
   "source": [
    "## Welcome to the hand-on session for relational (semantic data).\n",
    "\n",
    "Here, we will demonstrate how to use ontologies through the OWLAPI, classify and reason over them, and compute semantic similarity. In the second part, we will also use machine learning with ontologies.\n",
    "\n",
    "To run a piece of code, just go to the box, and either press Shift+Enter, or click on the \"run cell\" button in the menu bar.\n",
    "\n",
    "__Please run the first cell before the tutorial!__\n",
    "This will download all the Java libraries we need.\n",
    "\n",
    "Go ahead now and run the first cell. It may take a while to download all the libraries, so you may want to get a coffee while it's running."
   ]
  },
  {
   "cell_type": "code",
   "execution_count": null,
   "metadata": {},
   "outputs": [],
   "source": [
    "// Download dependencies using Groovy's Grape system\n",
    "import groovy.grape.Grape\n",
    "Grape.grab(group:'org.semanticweb.elk', module:'elk-owlapi', version:'0.4.3')\n",
    "Grape.grab(group:'net.sourceforge.owlapi', module:'owlapi-api', version:'4.2.5')\n",
    "Grape.grab(group:'net.sourceforge.owlapi', module:'owlapi-apibinding', version:'4.2.5')\n",
    "Grape.grab(group:'net.sourceforge.owlapi', module:'owlapi-impl', version:'4.2.5')\n",
    "Grape.grab(group:'com.github.sharispe', module:'slib-sml', version:'0.9.1')"
   ]
  },
  {
   "cell_type": "markdown",
   "metadata": {},
   "source": [
    "We will now show some basic operations on ontologies. We need to import lots of classes from the OWLAPI, create an OWL ontology manager, load the ontology, and start exploring a bit.\n",
    "\n",
    "The code below may need to be modified a bit if you have memory problems.\n"
   ]
  },
  {
   "cell_type": "code",
   "execution_count": null,
   "metadata": {},
   "outputs": [],
   "source": [
    "// opens ontology file and prints the number of classes\n",
    "\n",
    "// import what we need\n",
    "import java.net.*\n",
    "import org.semanticweb.owlapi.model.parameters.*\n",
    "import org.semanticweb.elk.owlapi.ElkReasonerFactory;\n",
    "import org.semanticweb.elk.owlapi.ElkReasonerConfiguration\n",
    "import org.semanticweb.elk.reasoner.config.*\n",
    "import org.semanticweb.owlapi.apibinding.OWLManager;\n",
    "import org.semanticweb.owlapi.reasoner.*\n",
    "import org.semanticweb.owlapi.reasoner.structural.StructuralReasoner\n",
    "import org.semanticweb.owlapi.vocab.OWLRDFVocabulary;\n",
    "import org.semanticweb.owlapi.model.*;\n",
    "import org.semanticweb.owlapi.io.*;\n",
    "import org.semanticweb.owlapi.owllink.*;\n",
    "import org.semanticweb.owlapi.util.*;\n",
    "import org.semanticweb.owlapi.search.*;\n",
    "import org.semanticweb.owlapi.manchestersyntax.renderer.*;\n",
    "import org.semanticweb.owlapi.reasoner.structural.*\n",
    " \n",
    "// Let's load an ontology and output the number of classes\n",
    "// Create the ontology manager\n",
    "manager = OWLManager.createOWLOntologyManager()\n",
    "// create data factory (to create axioms, classes, etc.)\n",
    "fac = manager.getOWLDataFactory()\n",
    "// Load the latest version of the PhenomeNET Ontology; for more information about this ontology, see http://journals.plos.org/ploscompbiol/article?id=10.1371/journal.pcbi.1005500\n",
    "\n",
    "ont = manager.loadOntologyFromOntologyDocument(new IRI(\"http://leechuck.de/merged-phenomenet.owl.gz\"))\n",
    "\n",
    "// Use the next line instead if you have memory problems loading the ontology above (comment out the line above and uncomment this line):\n",
    "//ont = manager.loadOntologyFromOntologyDocument(new IRI(\"file:phenomenet-inferred.owl\"))\n",
    "\n",
    "ont.getClassesInSignature(true).size()"
   ]
  },
  {
   "cell_type": "markdown",
   "metadata": {},
   "source": [
    "## Reasoning with ontologies\n",
    "\n",
    "Reasoning means we use inference rules that use the axioms within the ontology to extract new knowledge (which may or may not be explicitly stated). The most basic operation an OWL reasoner does is to perform _classification_, i.e., it identifies for each class its sub- and super-classes. OWL reasoners can also be used to query ontologies, and find, for example, sub-classes of named classes or complex class descriptions.\n",
    "\n",
    "Reasoning in OWL may be very complex. For example, automated reasoning in OWL 2 is 2NEXPTIME-complete, and will therefore not scale well on arbitrary ontologies. Fortunately, many optimized reasoners exist, so the theoretical limitations are not always a barrier in practise. Nevertheless, OWL 2 comes with several sub-langes (OWL 2 EL, QL, and RL) which guarantee more efficient automated reasoning. In particular the OWL 2 EL language profile is widely used in biological and biomedical ontologies.\n",
    "\n",
    "In the first box below, we will just create a new OWL reasoner object (using the OWL 2 EL reasoner [ELK](https://github.com/liveontologies/elk-reasoner)). In the second box, we will use this reasoner to find all the subclasses of the \"Mode of inheritance\" class in the Human Phenotype Ontology, and output the classes and their labels."
   ]
  },
  {
   "cell_type": "code",
   "execution_count": 6,
   "metadata": {},
   "outputs": [
    {
     "data": {
      "text/plain": [
       "org.semanticweb.elk.owlapi.ElkReasoner@76c4b45f"
      ]
     },
     "execution_count": 6,
     "metadata": {},
     "output_type": "execute_result"
    }
   ],
   "source": [
    "// import what we need\n",
    "import java.net.*\n",
    "import org.semanticweb.owlapi.model.parameters.*\n",
    "import org.semanticweb.elk.owlapi.ElkReasonerFactory;\n",
    "import org.semanticweb.elk.owlapi.ElkReasonerConfiguration\n",
    "import org.semanticweb.elk.reasoner.config.*\n",
    "import org.semanticweb.owlapi.apibinding.OWLManager;\n",
    "import org.semanticweb.owlapi.reasoner.*\n",
    "import org.semanticweb.owlapi.reasoner.structural.StructuralReasoner\n",
    "import org.semanticweb.owlapi.vocab.OWLRDFVocabulary;\n",
    "import org.semanticweb.owlapi.model.*;\n",
    "import org.semanticweb.owlapi.io.*;\n",
    "import org.semanticweb.owlapi.owllink.*;\n",
    "import org.semanticweb.owlapi.util.*;\n",
    "import org.semanticweb.owlapi.search.*;\n",
    "import org.semanticweb.owlapi.manchestersyntax.renderer.*;\n",
    "import org.semanticweb.owlapi.reasoner.structural.*\n",
    "\n",
    "ConsoleProgressMonitor progressMonitor = new ConsoleProgressMonitor()\n",
    "OWLReasonerConfiguration config = new SimpleConfiguration(progressMonitor)\n",
    "ElkReasonerFactory f1 = new ElkReasonerFactory()\n",
    "reasoner = f1.createReasoner(ont,config)\n"
   ]
  },
  {
   "cell_type": "code",
   "execution_count": 7,
   "metadata": {},
   "outputs": [
    {
     "name": "stdout",
     "output_type": "stream",
     "text": [
      "Loading ...\n",
      "    1%\n",
      "    2%\n",
      "    3%\n",
      "    4%\n",
      "    5%\n",
      "    6%\n",
      "    7%\n",
      "    8%\n",
      "    9%\n",
      "    10%\n",
      "    11%\n",
      "    12%\n",
      "    13%\n",
      "    14%\n",
      "    15%\n",
      "    16%\n",
      "    17%\n",
      "    18%\n",
      "    19%\n",
      "    20%\n",
      "    21%\n",
      "    22%\n",
      "    23%\n",
      "    24%\n",
      "    25%\n",
      "    26%\n",
      "    27%\n",
      "    28%\n",
      "    29%\n",
      "    30%\n",
      "    31%\n",
      "    32%\n",
      "    33%\n",
      "    34%\n",
      "    35%\n",
      "    36%\n",
      "    37%\n",
      "    38%\n",
      "    39%\n",
      "    40%\n",
      "    41%\n",
      "    42%\n",
      "    43%\n",
      "    44%\n",
      "    45%\n",
      "    46%\n",
      "    47%\n",
      "    48%\n",
      "    49%\n",
      "    50%\n",
      "    51%\n",
      "    52%\n",
      "    53%\n",
      "    54%\n",
      "    55%\n",
      "    56%\n",
      "    57%\n",
      "    58%\n",
      "    59%\n",
      "    60%\n",
      "    61%\n",
      "    62%\n",
      "    63%\n",
      "    64%\n",
      "    65%\n",
      "    66%\n",
      "    67%\n",
      "    68%\n",
      "    69%\n",
      "    70%\n",
      "    71%\n",
      "    72%\n",
      "    73%\n",
      "    74%\n",
      "    75%\n",
      "    76%\n",
      "    77%\n",
      "    78%\n",
      "    79%\n",
      "    80%\n",
      "    81%\n",
      "    82%\n",
      "    83%\n",
      "    84%\n",
      "    85%\n",
      "    86%\n",
      "    87%\n",
      "    88%\n",
      "    89%\n",
      "    90%\n",
      "    91%\n",
      "    92%\n",
      "    93%\n",
      "    94%\n",
      "    95%\n",
      "    96%\n",
      "    97%\n",
      "    98%\n",
      "    99%\n",
      "    ... finished\n",
      "Gonosomal inheritance (http://purl.obolibrary.org/obo/HP_0010985)\n",
      "Digenic inheritance (http://purl.obolibrary.org/obo/HP_0010984)\n",
      "Oligogenic inheritance (http://purl.obolibrary.org/obo/HP_0010983)\n",
      "Polygenic inheritance (http://purl.obolibrary.org/obo/HP_0010982)\n",
      "X-linked inheritance (http://purl.obolibrary.org/obo/HP_0001417)\n",
      "X-linked recessive inheritance (http://purl.obolibrary.org/obo/HP_0001419)\n",
      "Autosomal recessive inheritance (http://purl.obolibrary.org/obo/HP_0000007)\n",
      "Autosomal dominant (http://purl.obolibrary.org/obo/HP_0000006)\n",
      "Autosomal dominant inheritance (http://purl.obolibrary.org/obo/HP_0000006)\n",
      "Male-limited autosomal dominant (http://purl.obolibrary.org/obo/HP_0001475)\n",
      "Autosomal dominant contiguous gene syndrome (http://purl.obolibrary.org/obo/HP_0001452)\n",
      "Sex-limited autosomal dominant (http://purl.obolibrary.org/obo/HP_0001470)\n",
      "Y-linked inheritance (http://purl.obolibrary.org/obo/HP_0001450)\n",
      "Familial predisposition (http://purl.obolibrary.org/obo/HP_0001472)\n",
      "Autosomal dominant inheritance with paternal imprinting (http://purl.obolibrary.org/obo/HP_0012274)\n",
      "Autosomal dominant inheritance with maternal imprinting (http://purl.obolibrary.org/obo/HP_0012275)\n",
      "Somatic mutation (http://purl.obolibrary.org/obo/HP_0001428)\n",
      "Mitochondrial inheritance (http://purl.obolibrary.org/obo/HP_0001427)\n",
      "X-linked dominant inheritance (http://purl.obolibrary.org/obo/HP_0001423)\n",
      "Multifactorial inheritance (http://purl.obolibrary.org/obo/HP_0001426)\n",
      "Multifactorial Inheritance (http://purl.obolibrary.org/obo/HP_0001426)\n",
      "Genetic anticipation with paternal anticipation bias (http://purl.obolibrary.org/obo/HP_0003744)\n",
      "Sporadic (http://purl.obolibrary.org/obo/HP_0003745)\n",
      "Heterogeneous (http://purl.obolibrary.org/obo/HP_0001425)\n",
      "Somatic mosaicism (http://purl.obolibrary.org/obo/HP_0001442)\n",
      "Genetic anticipation (http://purl.obolibrary.org/obo/HP_0003743)\n",
      "Anticipation, Genetic (http://purl.obolibrary.org/obo/HP_0003743)\n",
      "Contiguous gene syndrome (http://purl.obolibrary.org/obo/HP_0001466)\n",
      "Autosomal dominant somatic cell mutation (http://purl.obolibrary.org/obo/HP_0001444)\n"
     ]
    },
    {
     "data": {
      "text/plain": [
       "[<http://purl.obolibrary.org/obo/HP_0010985>, <http://purl.obolibrary.org/obo/HP_0010984>, <http://purl.obolibrary.org/obo/HP_0010983>, <http://purl.obolibrary.org/obo/HP_0010982>, <http://purl.obolibrary.org/obo/HP_0001417>, <http://purl.obolibrary.org/obo/HP_0001419>, <http://purl.obolibrary.org/obo/HP_0000007>, <http://purl.obolibrary.org/obo/HP_0000006>, <http://purl.obolibrary.org/obo/HP_0001475>, <http://purl.obolibrary.org/obo/HP_0001452>, <http://purl.obolibrary.org/obo/HP_0001470>, <http://purl.obolibrary.org/obo/HP_0001450>, <http://purl.obolibrary.org/obo/HP_0001472>, <http://purl.obolibrary.org/obo/HP_0012274>, <http://purl.obolibrary.org/obo/HP_0012275>, <http://purl.obolibrary.org/obo/HP_0001428>, <http://purl.obolibrary.org/obo/HP_0001427>, <http://purl.obolibrary.org/obo/HP_0001423>, <http://purl.obolibrary.org/obo/HP_0001426>, <http://purl.obolibrary.org/obo/HP_0003744>, <http://purl.obolibrary.org/obo/HP_0003745>, <http://purl.obolibrary.org/obo/HP_0001425>, <http://purl.obolibrary.org/obo/HP_0001442>, <http://purl.obolibrary.org/obo/HP_0003743>, owl:Nothing, <http://purl.obolibrary.org/obo/HP_0001466>, <http://purl.obolibrary.org/obo/HP_0001444>]"
      ]
     },
     "execution_count": 7,
     "metadata": {},
     "output_type": "execute_result"
    }
   ],
   "source": [
    "// import what we need\n",
    "import java.net.*\n",
    "import org.semanticweb.owlapi.model.parameters.*\n",
    "import org.semanticweb.elk.owlapi.ElkReasonerFactory;\n",
    "import org.semanticweb.elk.owlapi.ElkReasonerConfiguration\n",
    "import org.semanticweb.elk.reasoner.config.*\n",
    "import org.semanticweb.owlapi.apibinding.OWLManager;\n",
    "import org.semanticweb.owlapi.reasoner.*\n",
    "import org.semanticweb.owlapi.reasoner.structural.StructuralReasoner\n",
    "import org.semanticweb.owlapi.vocab.OWLRDFVocabulary;\n",
    "import org.semanticweb.owlapi.model.*;\n",
    "import org.semanticweb.owlapi.io.*;\n",
    "import org.semanticweb.owlapi.owllink.*;\n",
    "import org.semanticweb.owlapi.util.*;\n",
    "import org.semanticweb.owlapi.search.*;\n",
    "import org.semanticweb.owlapi.manchestersyntax.renderer.*;\n",
    "import org.semanticweb.owlapi.reasoner.structural.*\n",
    "\n",
    "// get all subclasses of \"Mode of inheritance\", including all descendant classes (direct set to \"false\")\n",
    "reasoner.getSubClasses(fac.getOWLClass(IRI.create(\"http://purl.obolibrary.org/obo/HP_0000005\")), false).getFlattened().each { cl ->\n",
    "  def ciri = cl.getIRI()\n",
    "  // now we get the label (rdfs:label) for each of the classes and print to stdout\n",
    "  EntitySearcher.getAnnotations(cl, ont, fac.getRDFSLabel()).each { a ->\n",
    "    OWLAnnotationValue val = a.getValue()\n",
    "    if(val instanceof OWLLiteral) {\n",
    "      def label = ((OWLLiteral)val).getLiteral()\n",
    "      println \"$label ($ciri)\"\n",
    "    }\n",
    "  }\n",
    "}\n"
   ]
  },
  {
   "cell_type": "markdown",
   "metadata": {},
   "source": [
    "You can play with this code a bit to find subclasses as well as superclasses for \"Mode of inheritance\" and other classes. A class in OWL does not have to have a URI (these are the named classes) but can also be a complex class description; for example, you can query for subclasses of phenotypes affecting some part of the \"heart\" by querying describing the class using quantifiers, relations, conjunction, disjunction, or negation, and retrieve classes that satisfy this description.\n",
    "\n",
    "\n",
    "Next, we will classify the ontology we just downloaded using the ELK reasoner, and store an inferred version of the ontology in the user home directory. The inferred version will be classified, i.e., all implied sub- and super-class relations are inferred and a transitive reduction is performed so that the resulting taxonomy does not contain redundant sub- or super-class relations.\n",
    "\n",
    "If you do not want to store the file in `$HOME/phenomenet-inferred.owl`, change the code below accordingly."
   ]
  },
  {
   "cell_type": "code",
   "execution_count": 8,
   "metadata": {},
   "outputs": [
    {
     "data": {
      "text/plain": [
       "null"
      ]
     },
     "execution_count": 8,
     "metadata": {},
     "output_type": "execute_result"
    }
   ],
   "source": [
    "// import what we need\n",
    "import java.net.*\n",
    "import org.semanticweb.owlapi.model.parameters.*\n",
    "import org.semanticweb.elk.owlapi.ElkReasonerFactory;\n",
    "import org.semanticweb.elk.owlapi.ElkReasonerConfiguration\n",
    "import org.semanticweb.elk.reasoner.config.*\n",
    "import org.semanticweb.owlapi.apibinding.OWLManager;\n",
    "import org.semanticweb.owlapi.reasoner.*\n",
    "import org.semanticweb.owlapi.reasoner.structural.StructuralReasoner\n",
    "import org.semanticweb.owlapi.vocab.OWLRDFVocabulary;\n",
    "import org.semanticweb.owlapi.model.*;\n",
    "import org.semanticweb.owlapi.io.*;\n",
    "import org.semanticweb.owlapi.owllink.*;\n",
    "import org.semanticweb.owlapi.util.*;\n",
    "import org.semanticweb.owlapi.search.*;\n",
    "import org.semanticweb.owlapi.manchestersyntax.renderer.*;\n",
    "import org.semanticweb.owlapi.reasoner.structural.*\n",
    "    \n",
    "// write the inferred version of the ontology to a file (phenomenet-inferred.owl in the user homedir)\n",
    "def homeDir = System.getProperty(\"user.home\")\n",
    "File outfile = new File (homeDir, \"phenomenet-inferred.owl\")\n",
    "def outont = manager.createOntology(new IRI(\"http://aber-owl.net/tutorial/phenomenet-inferred.owl\"))\n",
    "InferredOntologyGenerator generator = new InferredOntologyGenerator(reasoner, [new InferredSubClassAxiomGenerator()])\n",
    "generator.fillOntology(fac, outont)\n",
    "\n",
    "manager.saveOntology(outont, IRI.create(\"file:\"+outfile.getAbsolutePath()))\n"
   ]
  },
  {
   "cell_type": "markdown",
   "metadata": {},
   "source": [
    "## Semantic similarity\n",
    "\n",
    "We use the [Semantic Measures Library](http://semantic-measures-library.org) to compute semantic similarity over the inferred ontology. We first generate some basic objects we need to define semantic similarity, and populate the semantic graph (used by the Semantic Measures Library) with the inferred taxonomy generated above.\n",
    "\n",
    "Note: while it is possible to compute semantic similarity over the non-inferred version of the ontology, most similarity measures crucially rely on a graph structure that resembles (or approximates) the semantic content of the ontology. Using a non-inferred version will hide this content. We therefore _always_ recommend to apply semantic similarity measures on the fully inferred version of an ontology.\n",
    "\n",
    "First we set up some basic data structures, mainly the graph over which the similarity will be computed."
   ]
  },
  {
   "cell_type": "code",
   "execution_count": 9,
   "metadata": {},
   "outputs": [
    {
     "data": {
      "text/plain": [
       "http://aber-owl.net/tutorial/\n",
       "Vertices\n",
       "\tTotal   : 0  \n",
       "Edges \t  : 0\n",
       "\n"
      ]
     },
     "execution_count": 9,
     "metadata": {},
     "output_type": "execute_result"
    }
   ],
   "source": [
    "import org.openrdf.model.vocabulary.*\n",
    "import slib.sglib.io.loader.*\n",
    "import slib.sml.sm.core.metrics.ic.utils.*\n",
    "import slib.sml.sm.core.utils.*\n",
    "import slib.sglib.io.loader.bio.obo.*\n",
    "import org.openrdf.model.URI\n",
    "import slib.graph.algo.extraction.rvf.instances.*\n",
    "import slib.sglib.algo.graph.utils.*\n",
    "import slib.utils.impl.Timer\n",
    "import slib.graph.algo.extraction.utils.*\n",
    "import slib.graph.model.graph.*\n",
    "import slib.graph.model.repo.*\n",
    "import slib.graph.model.impl.graph.memory.*\n",
    "import slib.sml.sm.core.engine.*\n",
    "import slib.graph.io.conf.*\n",
    "import slib.graph.model.impl.graph.elements.*\n",
    "import slib.graph.algo.extraction.rvf.instances.impl.*\n",
    "import slib.graph.model.impl.repo.*\n",
    "import slib.graph.io.util.*\n",
    "import slib.graph.io.loader.*\n",
    "    \n",
    "factory = URIFactoryMemory.getSingleton()\n",
    "URI graph_uri = factory.getURI(\"http://aber-owl.net/tutorial/\")\n",
    "graph = new GraphMemory(graph_uri)\n"
   ]
  },
  {
   "cell_type": "markdown",
   "metadata": {},
   "source": [
    "Next we populate the graph with the inferred ontology. We use the RDF_XML format which we generated before. There are some warning messages appearing here which can be safely ignored (because the INFO logger seems to write to stderr by default)."
   ]
  },
  {
   "cell_type": "code",
   "execution_count": 10,
   "metadata": {},
   "outputs": [
    {
     "data": {
      "text/plain": [
       "http://aber-owl.net/tutorial/\n",
       "Vertices\n",
       "\tTotal   : 224751  {e.g. http://purl.obolibrary.org/obo/HP_0011770}\n",
       "Edges \t  : 612744\n",
       "\n"
      ]
     },
     "execution_count": 10,
     "metadata": {},
     "output_type": "execute_result"
    }
   ],
   "source": [
    "import org.openrdf.model.vocabulary.*\n",
    "import slib.sglib.io.loader.*\n",
    "import slib.sml.sm.core.metrics.ic.utils.*\n",
    "import slib.sml.sm.core.utils.*\n",
    "import slib.sglib.io.loader.bio.obo.*\n",
    "import org.openrdf.model.URI\n",
    "import slib.graph.algo.extraction.rvf.instances.*\n",
    "import slib.sglib.algo.graph.utils.*\n",
    "import slib.utils.impl.Timer\n",
    "import slib.graph.algo.extraction.utils.*\n",
    "import slib.graph.model.graph.*\n",
    "import slib.graph.model.repo.*\n",
    "import slib.graph.model.impl.graph.memory.*\n",
    "import slib.sml.sm.core.engine.*\n",
    "import slib.graph.io.conf.*\n",
    "import slib.graph.model.impl.graph.elements.*\n",
    "import slib.graph.algo.extraction.rvf.instances.impl.*\n",
    "import slib.graph.model.impl.repo.*\n",
    "import slib.graph.io.util.*\n",
    "import slib.graph.io.loader.*\n",
    "    \n",
    "def homeDir = System.getProperty(\"user.home\")\n",
    "File ontfile = new File (homeDir, \"phenomenet-inferred.owl\")\n",
    "GDataConf graphconf = new GDataConf(GFormat.RDF_XML, ontfile.getCanonicalPath())\n",
    "GraphLoaderGeneric.populate(graphconf, graph)\n"
   ]
  },
  {
   "cell_type": "markdown",
   "metadata": {},
   "source": [
    "Sometimes, ontologies (or the taxonomies underlying them) have more than one root (below `owl:Thing`). For example, the Gene Ontology has three roots, _Biological process_, _Molecular function_, and _Cellular Component_. To make classes comparable when they do not share a root (necessary for example in path-based similarity measures), we generate a new artificial root and make this the new root of our semantic graph."
   ]
  },
  {
   "cell_type": "code",
   "execution_count": 12,
   "metadata": {},
   "outputs": [
    {
     "data": {
      "text/plain": [
       "null"
      ]
     },
     "execution_count": 12,
     "metadata": {},
     "output_type": "execute_result"
    }
   ],
   "source": [
    "import org.openrdf.model.vocabulary.*\n",
    "import slib.sglib.io.loader.*\n",
    "import slib.sml.sm.core.metrics.ic.utils.*\n",
    "import slib.sml.sm.core.utils.*\n",
    "import slib.sglib.io.loader.bio.obo.*\n",
    "import org.openrdf.model.URI\n",
    "import slib.graph.algo.extraction.rvf.instances.*\n",
    "import slib.sglib.algo.graph.utils.*\n",
    "import slib.utils.impl.Timer\n",
    "import slib.graph.algo.extraction.utils.*\n",
    "import slib.graph.model.graph.*\n",
    "import slib.graph.model.repo.*\n",
    "import slib.graph.model.impl.graph.memory.*\n",
    "import slib.sml.sm.core.engine.*\n",
    "import slib.graph.io.conf.*\n",
    "import slib.graph.model.impl.graph.elements.*\n",
    "import slib.graph.algo.extraction.rvf.instances.impl.*\n",
    "import slib.graph.model.impl.repo.*\n",
    "import slib.graph.io.util.*\n",
    "import slib.graph.io.loader.*\n",
    "\n",
    "\n",
    "URI virtualRoot = factory.getURI(\"http://aber-owl.net/tutorial/virtualRoot\")\n",
    "graph.addV(virtualRoot)\n",
    "GAction rooting = new GAction(GActionType.REROOTING)\n",
    "rooting.addParameter(\"root_uri\", virtualRoot.stringValue())\n",
    "GraphActionExecutor.applyAction(factory, rooting, graph)\n"
   ]
  },
  {
   "cell_type": "markdown",
   "metadata": {},
   "source": [
    "Now we configure the semantic similarity measure we want to use.\n",
    "\n",
    "Because we do not have instances, we use only the ontology structure to determine how specific a class is (`IC_Conf_Topo` below for use of a specificity measure based only on the topology of the semantic graph). We use Resnik's similarity measure (\"similarity of two classes is the specificity value of their most specific common ancestor\")."
   ]
  },
  {
   "cell_type": "code",
   "execution_count": 13,
   "metadata": {},
   "outputs": [
    {
     "data": {
      "text/plain": [
       "slib.sml.sm.core.engine.SM_Engine@79b29fbd"
      ]
     },
     "execution_count": 13,
     "metadata": {},
     "output_type": "execute_result"
    }
   ],
   "source": [
    "import org.openrdf.model.vocabulary.*\n",
    "import slib.sglib.io.loader.*\n",
    "import slib.sml.sm.core.metrics.ic.utils.*\n",
    "import slib.sml.sm.core.utils.*\n",
    "import slib.sglib.io.loader.bio.obo.*\n",
    "import org.openrdf.model.URI\n",
    "import slib.graph.algo.extraction.rvf.instances.*\n",
    "import slib.sglib.algo.graph.utils.*\n",
    "import slib.utils.impl.Timer\n",
    "import slib.graph.algo.extraction.utils.*\n",
    "import slib.graph.model.graph.*\n",
    "import slib.graph.model.repo.*\n",
    "import slib.graph.model.impl.graph.memory.*\n",
    "import slib.sml.sm.core.engine.*\n",
    "import slib.graph.io.conf.*\n",
    "import slib.graph.model.impl.graph.elements.*\n",
    "import slib.graph.algo.extraction.rvf.instances.impl.*\n",
    "import slib.graph.model.impl.repo.*\n",
    "import slib.graph.io.util.*\n",
    "import slib.graph.io.loader.*\n",
    "\n",
    "// configure the semantic similarity measure: use Resnik's (extrinsic) information content measure, and Resnik's similarity measure\n",
    "icConf = new IC_Conf_Topo(\"Sanchez\", SMConstants.FLAG_ICI_SANCHEZ_2011)\n",
    "smConfPairwise = new SMconf(\"Resnik\", SMConstants.FLAG_SIM_PAIRWISE_DAG_NODE_RESNIK_1995 )\n",
    "smConfPairwise.setICconf(icConf)\n",
    "\n",
    "// initialize the engine\n",
    "engine = new SM_Engine(graph)\n",
    "\n"
   ]
  },
  {
   "cell_type": "markdown",
   "metadata": {},
   "source": [
    "Now we can compare some classes and determine how similar they are. Feel free to change the code to some new classes and see how the similarity changes.\n",
    "\n",
    "You can use classes from the Human Phenotype Ontology (HPO) and the Mammalian Phenotype Ontology (MPO) for similarity computation between phenotypes. Since we are using the PhenomeNET ontology (see [our paper](http://journals.plos.org/ploscompbiol/article?id=10.1371/journal.pcbi.1005500)), classes in both ontologies are actually comparable."
   ]
  },
  {
   "cell_type": "code",
   "execution_count": 14,
   "metadata": {},
   "outputs": [
    {
     "name": "stdout",
     "output_type": "stream",
     "text": [
      "Similarity between 'Ear pain' and 'mid frequency hearing loss': 8.617973362046424\n"
     ]
    },
    {
     "data": {
      "text/plain": [
       "null"
      ]
     },
     "execution_count": 14,
     "metadata": {},
     "output_type": "execute_result"
    }
   ],
   "source": [
    "// similarity between two classes from HPO\n",
    "cl1 = factory.getURI(\"http://purl.obolibrary.org/obo/HP_0030766\") // Ear pain\n",
    "cl2 = factory.getURI(\"http://purl.obolibrary.org/obo/HP_0012781\") // mid frequency hearing loss\n",
    "println \"Similarity between 'Ear pain' and 'mid frequency hearing loss': \"+engine.compare(smConfPairwise, cl1, cl2)\n"
   ]
  },
  {
   "cell_type": "code",
   "execution_count": 15,
   "metadata": {},
   "outputs": [
    {
     "name": "stdout",
     "output_type": "stream",
     "text": [
      "Similarity between 'Ear pain' and 'tetralogy of fallot': 5.755799731300896\n"
     ]
    },
    {
     "data": {
      "text/plain": [
       "null"
      ]
     },
     "execution_count": 15,
     "metadata": {},
     "output_type": "execute_result"
    }
   ],
   "source": [
    "// similarity between two classes from HPO\n",
    "cl2 = factory.getURI(\"http://purl.obolibrary.org/obo/HP_0001636\") // tetralogy of fallot\n",
    "println \"Similarity between 'Ear pain' and 'tetralogy of fallot': \"+engine.compare(smConfPairwise, cl1, cl2)\n"
   ]
  },
  {
   "cell_type": "code",
   "execution_count": 16,
   "metadata": {},
   "outputs": [
    {
     "name": "stdout",
     "output_type": "stream",
     "text": [
      "Similarity between 'abnormal cardiac muscle relaxation' (MP) and 'tetralogy of fallot' (HP): 6.185691113293361\n"
     ]
    },
    {
     "data": {
      "text/plain": [
       "null"
      ]
     },
     "execution_count": 16,
     "metadata": {},
     "output_type": "execute_result"
    }
   ],
   "source": [
    "// similarity between two classes, one from HPO and one from MP\n",
    "cl1 = factory.getURI(\"http://purl.obolibrary.org/obo/MP_0004084\") // abnormal cardiac muscle relaxation\n",
    "cl2 = factory.getURI(\"http://purl.obolibrary.org/obo/HP_0001636\") // tetralogy of fallot\n",
    "println \"Similarity between 'abnormal cardiac muscle relaxation' (MP) and 'tetralogy of fallot' (HP): \"+engine.compare(smConfPairwise, cl1, cl2)\n"
   ]
  },
  {
   "cell_type": "code",
   "execution_count": 17,
   "metadata": {},
   "outputs": [
    {
     "name": "stdout",
     "output_type": "stream",
     "text": [
      "Similarity between 'ventricular septal defect' (MP) and 'tetralogy of fallot' (HP): 11.744447815899305\n"
     ]
    },
    {
     "data": {
      "text/plain": [
       "null"
      ]
     },
     "execution_count": 17,
     "metadata": {},
     "output_type": "execute_result"
    }
   ],
   "source": [
    "// similarity between two classes, one from HPO and one from MP\n",
    "cl1 = factory.getURI(\"http://purl.obolibrary.org/obo/MP_0010402\") // ventricular septal defect\n",
    "println \"Similarity between 'ventricular septal defect' (MP) and 'tetralogy of fallot' (HP): \"+engine.compare(smConfPairwise, cl1, cl2)\n"
   ]
  },
  {
   "cell_type": "markdown",
   "metadata": {},
   "source": [
    "So far, we have only looked at comparisons between two individual classes. This may be nice if we just want to understand how the classes in an ontology are related, but usually we want to compare _things that are annotated with classes_ from an ontology.\n",
    "\n",
    "We now download mouse phenotypes resulting from single gene knockouts, and add each gene as an instance of its phenotype classes (using an `rdf:type` edge). \n",
    "\n",
    "Important: this is __not__ the right way to do this in an ontology but is an artifact of the Semantic Measures Library. When building an ontology, a _gene_ is not an _instance_ of a phenotype, but will be related to the phenotype through other kinds of relations. In the Semantic Measures Library, we will treat them as instances, however."
   ]
  },
  {
   "cell_type": "code",
   "execution_count": 18,
   "metadata": {},
   "outputs": [
    {
     "data": {
      "text/plain": [
       "null"
      ]
     },
     "execution_count": 18,
     "metadata": {},
     "output_type": "execute_result"
    }
   ],
   "source": [
    "import org.openrdf.model.vocabulary.*\n",
    "import slib.sglib.io.loader.*\n",
    "import slib.sml.sm.core.metrics.ic.utils.*\n",
    "import slib.sml.sm.core.utils.*\n",
    "import slib.sglib.io.loader.bio.obo.*\n",
    "import org.openrdf.model.URI\n",
    "import slib.graph.algo.extraction.rvf.instances.*\n",
    "import slib.sglib.algo.graph.utils.*\n",
    "import slib.utils.impl.Timer\n",
    "import slib.graph.algo.extraction.utils.*\n",
    "import slib.graph.model.graph.*\n",
    "import slib.graph.model.repo.*\n",
    "import slib.graph.model.impl.graph.memory.*\n",
    "import slib.sml.sm.core.engine.*\n",
    "import slib.graph.io.conf.*\n",
    "import slib.graph.model.impl.graph.elements.*\n",
    "import slib.graph.algo.extraction.rvf.instances.impl.*\n",
    "import slib.graph.model.impl.repo.*\n",
    "import slib.graph.io.util.*\n",
    "import slib.graph.io.loader.*\n",
    "\n",
    "// now we download mouse phenotype annotations and add them to our graph as instances (using rdf:type)\n",
    "new URL (\"http://www.informatics.jax.org/downloads/reports/MGI_GenePheno.rpt\").getText().splitEachLine(\"\\t\") { line ->\n",
    "  def geneid = line[6]\n",
    "  def idUri = factory.getURI(\"http://phenomebrowser.net/tutorial/gene/\"+geneid)\n",
    "  def pheno = line[4].replaceAll(\":\",\"_\")\n",
    "  def phenoUri = factory.getURI(\"http://purl.obolibrary.org/obo/\"+pheno)\n",
    "  Edge e = new Edge(idUri, RDF.TYPE, phenoUri)\n",
    "  graph.addE(e)\n",
    "}\n"
   ]
  },
  {
   "cell_type": "markdown",
   "metadata": {},
   "source": [
    "In the presence of instances, we can change our class specificity measure. We now use Resnik's specificity measure, which is just the information content of a class (i.e., `-log(p(c))` where `p(c)` is the probability to have an instance annotated with the class. This is a specificity measure that relies on instances, and is therefore a _corpus-based_ measure (using `IC_Conf_Corpus` below).\n",
    "\n",
    "We also configure a group-wise measure now, using the Best-Matching Average strategy. This will allow us to compare sets of classes to sets of classes.\n",
    "\n",
    "Finally, the `InstanceAccessor` will allow us to identify all instances of our classes."
   ]
  },
  {
   "cell_type": "code",
   "execution_count": 19,
   "metadata": {},
   "outputs": [
    {
     "data": {
      "text/plain": [
       "slib.graph.algo.extraction.rvf.instances.impl.InstanceAccessor_RDF_TYPE@2fae71cb"
      ]
     },
     "execution_count": 19,
     "metadata": {},
     "output_type": "execute_result"
    }
   ],
   "source": [
    "import org.openrdf.model.vocabulary.*\n",
    "import slib.sglib.io.loader.*\n",
    "import slib.sml.sm.core.metrics.ic.utils.*\n",
    "import slib.sml.sm.core.utils.*\n",
    "import slib.sglib.io.loader.bio.obo.*\n",
    "import org.openrdf.model.URI\n",
    "import slib.graph.algo.extraction.rvf.instances.*\n",
    "import slib.sglib.algo.graph.utils.*\n",
    "import slib.utils.impl.Timer\n",
    "import slib.graph.algo.extraction.utils.*\n",
    "import slib.graph.model.graph.*\n",
    "import slib.graph.model.repo.*\n",
    "import slib.graph.model.impl.graph.memory.*\n",
    "import slib.sml.sm.core.engine.*\n",
    "import slib.graph.io.conf.*\n",
    "import slib.graph.model.impl.graph.elements.*\n",
    "import slib.graph.algo.extraction.rvf.instances.impl.*\n",
    "import slib.graph.model.impl.repo.*\n",
    "import slib.graph.io.util.*\n",
    "import slib.graph.io.loader.*\n",
    "\n",
    "\n",
    "// now that we have instances/annotations, we switch to Resnik's information content measure\n",
    "icConf = new IC_Conf_Corpus(\"ResnikIC\", SMConstants.FLAG_IC_ANNOT_RESNIK_1995_NORMALIZED)\n",
    "smConfPairwise.setICconf(icConf)\n",
    "// using Best-Matching Average to merge annotations when comparing sets of classes\n",
    "smConfGroupwise = new SMconf(\"BMA\", SMConstants.FLAG_SIM_GROUPWISE_BMA)\n",
    "// and re-initialize the graph\n",
    "engine = new SM_Engine(graph)\n",
    "\n",
    "// we need this to find our instances again\n",
    "ia = new InstanceAccessor_RDF_TYPE(graph)\n",
    "\n"
   ]
  },
  {
   "cell_type": "markdown",
   "metadata": {},
   "source": [
    "We can now compute again similarity between two classes. Note how the similarity values change. Feel free to experiment with this and compare different classes."
   ]
  },
  {
   "cell_type": "code",
   "execution_count": 20,
   "metadata": {},
   "outputs": [
    {
     "name": "stdout",
     "output_type": "stream",
     "text": [
      "Similarity (Resnik) between 'abnormal cardiac muscle relaxation' (MP) and 'tetralogy of fallot' (HP): 0.28885960296755914\n"
     ]
    },
    {
     "data": {
      "text/plain": [
       "null"
      ]
     },
     "execution_count": 20,
     "metadata": {},
     "output_type": "execute_result"
    }
   ],
   "source": [
    "// similarity between two classes, one from HPO and one from MP\n",
    "cl1 = factory.getURI(\"http://purl.obolibrary.org/obo/MP_0004084\") // abnormal cardiac muscle relaxation\n",
    "cl2 = factory.getURI(\"http://purl.obolibrary.org/obo/HP_0001636\") // tetralogy of fallot\n",
    "println \"Similarity (Resnik) between 'abnormal cardiac muscle relaxation' (MP) and 'tetralogy of fallot' (HP): \"+engine.compare(smConfPairwise, cl1, cl2)\n"
   ]
  },
  {
   "cell_type": "code",
   "execution_count": 21,
   "metadata": {},
   "outputs": [
    {
     "name": "stdout",
     "output_type": "stream",
     "text": [
      "Similarity (Resnik) between 'ventricular septal defect' (MP) and 'tetralogy of fallot' (HP): 0.5564110466063628\n"
     ]
    },
    {
     "data": {
      "text/plain": [
       "null"
      ]
     },
     "execution_count": 21,
     "metadata": {},
     "output_type": "execute_result"
    }
   ],
   "source": [
    "// similarity between two classes, one from HPO and one from MP\n",
    "cl1 = factory.getURI(\"http://purl.obolibrary.org/obo/MP_0010402\") // ventricular septal defect\n",
    "println \"Similarity (Resnik) between 'ventricular septal defect' (MP) and 'tetralogy of fallot' (HP): \"+engine.compare(smConfPairwise, cl1, cl2)\n"
   ]
  },
  {
   "cell_type": "markdown",
   "metadata": {},
   "source": [
    "With the presence of mouse genes as instances in our semantic graph, we can do some more sophisticated analyses. Here, we define a patient through a set of phenotypes (i.e., clinical signs and symptoms). The patient has a rare, heritable form of macular dystrophy without known etiology (see https://www.omim.org/entry/153840). We hypothesize that there may be a mouse knockout that resembles this disease, and possibly the human ortholog of the mouse gene may also be involved in this form of macular dystrophy.\n",
    "\n",
    "We compare our patient to _all_ instances in our graph (i.e., all mouse knockouts) using our measure of phenotypic similarity. We then sort the resulting list by their similarity score in descending order, and output the top 10 predictions."
   ]
  },
  {
   "cell_type": "code",
   "execution_count": 22,
   "metadata": {},
   "outputs": [
    {
     "name": "stdout",
     "output_type": "stream",
     "text": [
      "Highest ranking genes for patient 1 (macular dystrophy): \n"
     ]
    },
    {
     "data": {
      "text/plain": [
       "[{gene=http://phenomebrowser.net/tutorial/gene/MGI:5792188, sim=0.5472591624085453}, {gene=http://phenomebrowser.net/tutorial/gene/MGI:2384871, sim=0.5045088066329703}, {gene=http://phenomebrowser.net/tutorial/gene/MGI:1097692, sim=0.5000747608322254}, {gene=http://phenomebrowser.net/tutorial/gene/MGI:88436, sim=0.49487365081009993}, {gene=http://phenomebrowser.net/tutorial/gene/MGI:2448607, sim=0.4848922545007013}, {gene=http://phenomebrowser.net/tutorial/gene/MGI:1277953, sim=0.48296994370625534}, {gene=http://phenomebrowser.net/tutorial/gene/MGI:95793, sim=0.47760805641571563}, {gene=http://phenomebrowser.net/tutorial/gene/MGI:1924446, sim=0.4594588942442657}, {gene=http://phenomebrowser.net/tutorial/gene/MGI:2448528, sim=0.44897075909978973}, {gene=http://phenomebrowser.net/tutorial/gene/MGI:1330305, sim=0.44452924920749526}, {gene=http://phenomebrowser.net/tutorial/gene/MGI:1098749, sim=0.4442270692734661}]"
      ]
     },
     "execution_count": 22,
     "metadata": {},
     "output_type": "execute_result"
    }
   ],
   "source": [
    "// that's our patient, with a single phenotype of an orphan disease, \"MACULAR DYSTROPHY, VITELLIFORM, 1; VMD1\" (https://www.omim.org/entry/153840)\n",
    "Set patient = [ factory.getURI(\"http://purl.obolibrary.org/obo/HP_0007754\"), factory.getURI(\"http://purl.obolibrary.org/obo/HP_0007663\"), factory.getURI(\"http://purl.obolibrary.org/obo/HP_0001123\"), \n",
    "  factory.getURI(\"http://purl.obolibrary.org/obo/HP_0000505\"), factory.getURI(\"http://purl.obolibrary.org/obo/HP_0007677\") ]\n",
    "// we store the similarity values in the results set\n",
    "def results = new LinkedHashSet()\n",
    "engine.getInstances().each { gene ->\n",
    "  def phenoSet = ia.getDirectClass(gene) // gets all the annotations of each instance (gene)\n",
    "  Expando exp = new Expando()\n",
    "  try { // this part might fail if the version of MP we use to compute similarity and the MP used for annotation is different; we ignore all errors for now\n",
    "    exp.sim = engine.compare(smConfGroupwise, smConfPairwise, phenoSet, patient)\n",
    "    exp.gene = gene\n",
    "    results.add(exp)\n",
    "  } catch (Exception E) {}\n",
    "}\n",
    "// sorting results by similarity (highest first) and output the top 10 predictions\n",
    "println \"Highest ranking genes for patient 1 (macular dystrophy): \"\n",
    "results.sort { it.sim }.reverse()[0..10]\n"
   ]
  },
  {
   "cell_type": "markdown",
   "metadata": {},
   "source": [
    "We test this with another patient, this time with Wiskott-Aldrich Syndrome (https://www.omim.org/entry/301000). \n",
    "Wiskott-Aldrich Syndrome is a rare genetically-based disease in which the WAS gene is known to be causally involved. In the mouse, there is also a FOXP3 model that is used as a disease model for Wiskott-Aldrich syndrome (http://www.informatics.jax.org/allele/MGI:1857034)."
   ]
  },
  {
   "cell_type": "code",
   "execution_count": 23,
   "metadata": {},
   "outputs": [
    {
     "name": "stdout",
     "output_type": "stream",
     "text": [
      "Highest ranking genes for patient 2 (Wiskott Aldrich Syndrom): \n"
     ]
    },
    {
     "data": {
      "text/plain": [
       "[{gene=http://phenomebrowser.net/tutorial/gene/MGI:103190, sim=0.49720727248076346}, {gene=http://phenomebrowser.net/tutorial/gene/MGI:4439609, sim=0.48024558345022217}, {gene=http://phenomebrowser.net/tutorial/gene/MGI:1349436, sim=0.48024558345022217}, {gene=http://phenomebrowser.net/tutorial/gene/MGI:87967, sim=0.48018651445779015}, {gene=http://phenomebrowser.net/tutorial/gene/MGI:1914179, sim=0.47910230751537786}, {gene=http://phenomebrowser.net/tutorial/gene/MGI:2685746, sim=0.47903687053463184}, {gene=http://phenomebrowser.net/tutorial/gene/MGI:2180699, sim=0.47903687053463184}, {gene=http://phenomebrowser.net/tutorial/gene/MGI:105311, sim=0.4741019301593321}, {gene=http://phenomebrowser.net/tutorial/gene/MGI:1891436, sim=0.4728694509582357}, {gene=http://phenomebrowser.net/tutorial/gene/MGI:5792227, sim=0.47182621421899473}, {gene=http://phenomebrowser.net/tutorial/gene/MGI:1918820, sim=0.4687770391834314}]"
      ]
     },
     "execution_count": 23,
     "metadata": {},
     "output_type": "execute_result"
    }
   ],
   "source": [
    "// another patient with Wiskott-Aldrich Syndrome\n",
    "Set patient = [ factory.getURI(\"http://purl.obolibrary.org/obo/HP_0000112\"), factory.getURI(\"http://purl.obolibrary.org/obo/HP_0000225\"), factory.getURI(\"http://purl.obolibrary.org/obo/HP_0000246\"), factory.getURI(\"http://purl.obolibrary.org/obo/HP_0000388\"), factory.getURI(\"http://purl.obolibrary.org/obo/HP_0000421\"), factory.getURI(\"http://purl.obolibrary.org/obo/HP_0000964\"), factory.getURI(\"http://purl.obolibrary.org/obo/HP_0000967\"), factory.getURI(\"http://purl.obolibrary.org/obo/HP_0000979\"), factory.getURI(\"http://purl.obolibrary.org/obo/HP_0001287\"), factory.getURI(\"http://purl.obolibrary.org/obo/HP_0001419\"), factory.getURI(\"http://purl.obolibrary.org/obo/HP_0001873\"), factory.getURI(\"http://purl.obolibrary.org/obo/HP_0001878\"), factory.getURI(\"http://purl.obolibrary.org/obo/HP_0001888\"), factory.getURI(\"http://purl.obolibrary.org/obo/HP_0001891\"), factory.getURI(\"http://purl.obolibrary.org/obo/HP_0001983\"), factory.getURI(\"http://purl.obolibrary.org/obo/HP_0002037\"), factory.getURI(\"http://purl.obolibrary.org/obo/HP_0002090\"), factory.getURI(\"http://purl.obolibrary.org/obo/HP_0002248\"), factory.getURI(\"http://purl.obolibrary.org/obo/HP_0002249\"), factory.getURI(\"http://purl.obolibrary.org/obo/HP_0002783\"), factory.getURI(\"http://purl.obolibrary.org/obo/HP_0002788\"), factory.getURI(\"http://purl.obolibrary.org/obo/HP_0002848\"), factory.getURI(\"http://purl.obolibrary.org/obo/HP_0002850\"), factory.getURI(\"http://purl.obolibrary.org/obo/HP_0002963\"), factory.getURI(\"http://purl.obolibrary.org/obo/HP_0002971\"), factory.getURI(\"http://purl.obolibrary.org/obo/HP_0003010\"), factory.getURI(\"http://purl.obolibrary.org/obo/HP_0003212\"), factory.getURI(\"http://purl.obolibrary.org/obo/HP_0003261\"), factory.getURI(\"http://purl.obolibrary.org/obo/HP_0005310\"), factory.getURI(\"http://purl.obolibrary.org/obo/HP_0005537\"), factory.getURI(\"http://purl.obolibrary.org/obo/HP_0011944\"), factory.getURI(\"http://purl.obolibrary.org/obo/HP_0040184\") ]\n",
    "def results = new LinkedHashSet()\n",
    "engine.getInstances().each { gene ->\n",
    "  def phenoSet = ia.getDirectClass(gene) // gets all the annotations of each instance (gene)\n",
    "  Expando exp = new Expando()\n",
    "  try { // this might fail if the version of MP we use to compute similarity and the MP used for annotation is different; we ignore this for now\n",
    "    exp.sim = engine.compare(smConfGroupwise, smConfPairwise, phenoSet, patient)\n",
    "    exp.gene = gene\n",
    "    results.add(exp)\n",
    "  } catch (Exception E) { }\n",
    "}\n",
    "// sorting results by similarity (highest first) and output the top 10 predictions\n",
    "println \"Highest ranking genes for patient 2 (Wiskott Aldrich Syndrom): \"\n",
    "results.sort { it.sim }.reverse()[0..10] // includes MGI:1891436, FOXP3\n"
   ]
  },
  {
   "cell_type": "markdown",
   "metadata": {},
   "source": [
    "## Tasks\n",
    "\n",
    "Now you have everything you need for basic similarity computation with background knowledge. While the code in this notebook is useful in many applications, you may want to try [Phenomizer](https://compbio.charite.de/phenomizer/) and [PubCaseFinder](https://pubcasefinder.dbcls.jp) which use the same principles underlying this Notebook but come with a more user-friendly interface.\n",
    "\n",
    "1. You observe a patient with Cachexia, Slender build, Tall stature, Narrow face, Dentral crowding, High palate, Cleft palate, Dolichocephaly, Pneumothorax, Flexion contracture, Hammertoe, Incisional hernia, . Can you find the disease and the  "
   ]
  }
 ],
 "metadata": {
  "kernelspec": {
   "display_name": "Groovy",
   "language": "groovy",
   "name": "groovy"
  },
  "language_info": {
   "codemirror_mode": "groovy",
   "file_extension": ".groovy",
   "mimetype": "",
   "name": "Groovy",
   "nbconverter_exporter": "",
   "version": "3.0.3"
  }
 },
 "nbformat": 4,
 "nbformat_minor": 2
}
